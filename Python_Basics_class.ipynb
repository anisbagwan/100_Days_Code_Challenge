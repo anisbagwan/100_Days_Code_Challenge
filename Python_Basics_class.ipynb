{
  "cells": [
    {
      "cell_type": "markdown",
      "metadata": {
        "colab_type": "text",
        "id": "view-in-github"
      },
      "source": [
        "<a href=\"https://colab.research.google.com/github/anisbagwan/100_Days_Code_Challenge/blob/main/Python_Basics_class.ipynb\" target=\"_parent\"><img src=\"https://colab.research.google.com/assets/colab-badge.svg\" alt=\"Open In Colab\"/></a>"
      ]
    },
    {
      "cell_type": "markdown",
      "metadata": {
        "id": "qe0eT8I0BzXI"
      },
      "source": [
        "# DAY 1 (Sat. 30-07"
      ]
    },
    {
      "cell_type": "code",
      "execution_count": 1,
      "metadata": {
        "id": "_W9qZXELlGzx"
      },
      "outputs": [],
      "source": [
        "def ifOdd(num):\n",
        "  return(True if(num%2!=0) else False)"
      ]
    },
    {
      "cell_type": "code",
      "execution_count": null,
      "metadata": {
        "colab": {
          "base_uri": "https://localhost:8080/"
        },
        "id": "9A2Jt_GRlb5V",
        "outputId": "9f734218-7a92-49b1-8165-56e694e59ca9"
      },
      "outputs": [
        {
          "data": {
            "text/plain": [
              "True"
            ]
          },
          "execution_count": 2,
          "metadata": {},
          "output_type": "execute_result"
        }
      ],
      "source": [
        "ifOdd(3)"
      ]
    },
    {
      "cell_type": "code",
      "execution_count": null,
      "metadata": {
        "id": "BAMHTdeWleTr"
      },
      "outputs": [],
      "source": [
        "def oprtn():\n",
        "  num1=int(input())\n",
        "  num2=int(input())\n",
        "  oprt=input()\n",
        "  if oprt=='+':\n",
        "    print(num1+num2)\n",
        "  elif oprt=='-':\n",
        "    print(num1-num2)\n",
        "  else:\n",
        "    print(num1*num2)\n",
        "    "
      ]
    },
    {
      "cell_type": "code",
      "execution_count": null,
      "metadata": {
        "colab": {
          "base_uri": "https://localhost:8080/"
        },
        "id": "HYsSkHZNmpJy",
        "outputId": "27d1cde7-2c29-4be2-dbc7-dab25cd12e5f"
      },
      "outputs": [
        {
          "name": "stdout",
          "output_type": "stream",
          "text": [
            "52\n",
            "65\n",
            "*\n",
            "3380\n"
          ]
        }
      ],
      "source": [
        "oprtn()"
      ]
    },
    {
      "cell_type": "markdown",
      "metadata": {
        "id": "bjeYrapKaLoD"
      },
      "source": [
        "# Prime Numbers"
      ]
    },
    {
      "cell_type": "code",
      "execution_count": null,
      "metadata": {
        "colab": {
          "base_uri": "https://localhost:8080/",
          "height": 35
        },
        "id": "6kFA9JGLnMRp",
        "outputId": "d88d77f4-401a-4927-aed6-d14dc8540436"
      },
      "outputs": [
        {
          "data": {
            "application/vnd.google.colaboratory.intrinsic+json": {
              "type": "string"
            },
            "text/plain": [
              "'if(check and num!=1):\\n    print(str(num)+\" is a Prime Number\")\\nelse:\\n    print(str(num)+\" is not a Prime Number\")'"
            ]
          },
          "execution_count": 17,
          "metadata": {},
          "output_type": "execute_result"
        }
      ],
      "source": [
        "#num=int(input(\"Enter a number: \"))\n",
        "def prm_chkr(num):\n",
        "  check=True\n",
        "  i=2\n",
        "  while i*i<=num:\n",
        "      if(num%i==0):\n",
        "          check=False\n",
        "          break\n",
        "      i+=1\n",
        "  return check\n",
        "'''if(check and num!=1):\n",
        "    print(str(num)+\" is a Prime Number\")\n",
        "else:\n",
        "    print(str(num)+\" is not a Prime Number\")'''"
      ]
    },
    {
      "cell_type": "code",
      "execution_count": null,
      "metadata": {
        "colab": {
          "base_uri": "https://localhost:8080/"
        },
        "id": "TOwsKN5cpzf7",
        "outputId": "8ae2539d-42e5-4cae-abdf-6327fea961d3"
      },
      "outputs": [
        {
          "data": {
            "text/plain": [
              "False"
            ]
          },
          "execution_count": 18,
          "metadata": {},
          "output_type": "execute_result"
        }
      ],
      "source": [
        "prm_chkr(4)"
      ]
    },
    {
      "cell_type": "code",
      "execution_count": null,
      "metadata": {
        "id": "Y6cito7opZ7E"
      },
      "outputs": [],
      "source": [
        "def prm_nmbrs(lower,upper):\n",
        "  return [i for i in range(lower,upper) if prm_chkr(i)==True and i != 0 and i != 1]\n",
        "    "
      ]
    },
    {
      "cell_type": "code",
      "execution_count": null,
      "metadata": {
        "colab": {
          "base_uri": "https://localhost:8080/"
        },
        "id": "zobIy5ZhqJWJ",
        "outputId": "0616d9ca-bf6c-45c9-85da-f1286c6e6996"
      },
      "outputs": [
        {
          "data": {
            "text/plain": [
              "[2, 3, 5, 7]"
            ]
          },
          "execution_count": 30,
          "metadata": {},
          "output_type": "execute_result"
        }
      ],
      "source": [
        "prm_nmbrs(1,10)"
      ]
    },
    {
      "cell_type": "code",
      "execution_count": null,
      "metadata": {
        "colab": {
          "base_uri": "https://localhost:8080/"
        },
        "id": "KkccRMypsfAD",
        "outputId": "6a3ddafa-3d10-4b85-c20f-2bc98c8bf0f4"
      },
      "outputs": [
        {
          "data": {
            "text/plain": [
              "0"
            ]
          },
          "execution_count": 33,
          "metadata": {},
          "output_type": "execute_result"
        }
      ],
      "source": [
        "n=499979\n",
        "for i in range(n):\n",
        "    a=0\n",
        "    if i==0 or i==1:\n",
        "       continue\n",
        "    else:\n",
        "       for j in range(2,int(i/2)+1):\n",
        "           if (i%j==0):\n",
        "              break\n",
        "       else:\n",
        "          a+=1\n",
        "a"
      ]
    },
    {
      "cell_type": "code",
      "execution_count": null,
      "metadata": {
        "id": "xdmjtFYBykie"
      },
      "outputs": [],
      "source": [
        "def prime_no_rnge(lower,upper):\n",
        "  x=2\n",
        "  check=True\n",
        "  prm_n=[]\n",
        "  for i in range(lower,upper):\n",
        "      if i == 0 or i == 1:\n",
        "            continue\n",
        "      else:\n",
        "        for j in range(2,int(i/2)+1):\n",
        "          if(i%x==0):\n",
        "            \n",
        "            break\n",
        "        else:\n",
        "         prm_n.append(i)\n",
        "      \n",
        "  return prm_n"
      ]
    },
    {
      "cell_type": "code",
      "execution_count": null,
      "metadata": {
        "colab": {
          "base_uri": "https://localhost:8080/"
        },
        "id": "6DIFLXaAbAAv",
        "outputId": "f1f146e7-485d-4e09-fdaa-0462849e3168"
      },
      "outputs": [
        {
          "data": {
            "text/plain": [
              "[2, 3, 5, 7, 9, 11, 13, 15, 17, 19]"
            ]
          },
          "execution_count": 13,
          "metadata": {},
          "output_type": "execute_result"
        }
      ],
      "source": [
        "prime_no_rnge(1,20)"
      ]
    },
    {
      "cell_type": "code",
      "execution_count": null,
      "metadata": {
        "id": "QVBo8W_A5g9z"
      },
      "outputs": [],
      "source": [
        "def printFibo(n):\n",
        "  ''' This function returns the fibonacci series'''\n",
        "  a=0                                                                           # Assign 0th element of list that is 0\n",
        "  b=1                                                                           # Assign 1th element of list thet is 1\n",
        "  for i in range(n):                                                            # Iterate through each digit fall under given number\n",
        "    print(a)                                                                    # a will store all the elements of fib-series\n",
        "    sum=a+b                                                                     # Add the elements stored in a and b\n",
        "    a=b                                                                         # Assign a's value to b\n",
        "    b=sum                                                                       # Assign the sum of a and b to b\n",
        "  return a                                                                      # Return last element stored in a\n",
        " "
      ]
    },
    {
      "cell_type": "code",
      "execution_count": null,
      "metadata": {
        "colab": {
          "base_uri": "https://localhost:8080/"
        },
        "id": "oIJalLmq54jo",
        "outputId": "d328a692-cf84-410d-ebe6-c3f560b1ca15"
      },
      "outputs": [
        {
          "name": "stdout",
          "output_type": "stream",
          "text": [
            "0\n",
            "1\n",
            "1\n",
            "2\n",
            "3\n",
            "5\n",
            "8\n",
            "13\n",
            "21\n",
            "34\n"
          ]
        },
        {
          "data": {
            "text/plain": [
              "55"
            ]
          },
          "execution_count": 50,
          "metadata": {},
          "output_type": "execute_result"
        }
      ],
      "source": [
        "printFibo(10)"
      ]
    },
    {
      "cell_type": "code",
      "execution_count": null,
      "metadata": {
        "colab": {
          "base_uri": "https://localhost:8080/"
        },
        "id": "BqFIKu-S0p-4",
        "outputId": "bcebf4df-49fc-4219-c774-7d7fc7bd3309"
      },
      "outputs": [
        {
          "name": "stdout",
          "output_type": "stream",
          "text": [
            "1\n",
            "2\n",
            "3\n",
            "4\n",
            "5\n",
            "6\n",
            "7\n",
            "8\n",
            "9\n",
            "10\n"
          ]
        }
      ],
      "source": [
        "bulbs=10\n",
        "n=1\n",
        "lst_bulbs=[ i for i in range(1,bulbs+1)]\n",
        "\n",
        "for i in lst_bulbs:\n",
        "  print(i)"
      ]
    },
    {
      "cell_type": "code",
      "execution_count": null,
      "metadata": {
        "id": "_0pOpUrG1RAR"
      },
      "outputs": [],
      "source": [
        "def bulbToggle(num):\n",
        "  i=1\n",
        "  while i*i<=num:\n",
        "    print(i)\n",
        "    i+=1"
      ]
    },
    {
      "cell_type": "code",
      "execution_count": null,
      "metadata": {
        "colab": {
          "base_uri": "https://localhost:8080/"
        },
        "id": "EeYrkU40_Jz6",
        "outputId": "36c6bbcf-fb88-494a-8ba2-2f71e1a8ac2c"
      },
      "outputs": [
        {
          "name": "stdout",
          "output_type": "stream",
          "text": [
            "1\n",
            "2\n",
            "3\n"
          ]
        }
      ],
      "source": [
        "bulbToggle(10)"
      ]
    },
    {
      "cell_type": "code",
      "execution_count": null,
      "metadata": {
        "id": "mXRNrqZp_Qil"
      },
      "outputs": [],
      "source": [
        "n=5\n",
        "def pattern_1(n):\n",
        "  nst=1\n",
        "  nsp=n-1\n",
        "\n",
        "  for i in range(1,n+1):\n",
        "    for csp in range(1,nsp+1):\n",
        "      print(\"  \",end=\"\")\n",
        "    for cst in range(1,nst+1):\n",
        "      print(\" *\",end=\"\")\n",
        "    nst+=1\n",
        "    nsp-=1\n",
        "    print()"
      ]
    },
    {
      "cell_type": "code",
      "execution_count": null,
      "metadata": {
        "colab": {
          "base_uri": "https://localhost:8080/"
        },
        "id": "hbEa7Wooesg-",
        "outputId": "228f84cb-c606-4383-9fee-de8a9b8b2e40"
      },
      "outputs": [
        {
          "name": "stdout",
          "output_type": "stream",
          "text": [
            "         *\n",
            "       * *\n",
            "     * * *\n",
            "   * * * *\n",
            " * * * * *\n"
          ]
        }
      ],
      "source": [
        "pattern_1(5)"
      ]
    },
    {
      "cell_type": "code",
      "execution_count": null,
      "metadata": {
        "id": "d9dmIlLhiOz2"
      },
      "outputs": [],
      "source": [
        "def pattern_2(n):\n",
        "  nst=n\n",
        "  nsp=0\n",
        "\n",
        "  for i in range(1,n+1):\n",
        "    # Spaces\n",
        "    for csp in range(1,nsp+1):\n",
        "      print(\"  \",end=\"\")\n",
        "    # Stars\n",
        "    for cst in range(1,nst+1):\n",
        "      print(\" *\",end=\"\")\n",
        "    # Relation in spaces and stars\n",
        "    nst-=1\n",
        "    nsp+=1\n",
        "    print()"
      ]
    },
    {
      "cell_type": "code",
      "execution_count": null,
      "metadata": {
        "colab": {
          "base_uri": "https://localhost:8080/"
        },
        "id": "G6MXOHNSlHO1",
        "outputId": "d193efe5-e40d-4cfb-a2df-d4517e8e811f"
      },
      "outputs": [
        {
          "name": "stdout",
          "output_type": "stream",
          "text": [
            " * * * * *\n",
            "   * * * *\n",
            "     * * *\n",
            "       * *\n",
            "         *\n"
          ]
        }
      ],
      "source": [
        "pattern_2(5)"
      ]
    },
    {
      "cell_type": "code",
      "execution_count": null,
      "metadata": {
        "id": "9lLFmQd-lKfx"
      },
      "outputs": [],
      "source": [
        "def pattern_3(n):\n",
        "  nst=n\n",
        "  nsp=0\n",
        "\n",
        "  for i in range(1,n+1):\n",
        "    for csp in range(1,nst+1):\n",
        "      print(\"* \",end=\"\")\n",
        "    for cst in range(1,nsp+1):\n",
        "      print(\"  \",end=\"\")\n",
        "    nst-=1\n",
        "    \n",
        "    print()"
      ]
    },
    {
      "cell_type": "code",
      "execution_count": null,
      "metadata": {
        "colab": {
          "base_uri": "https://localhost:8080/"
        },
        "id": "1HWBe4uHlo-W",
        "outputId": "64dc9b0a-1a50-43e2-e5df-e8c515ec6d93"
      },
      "outputs": [
        {
          "name": "stdout",
          "output_type": "stream",
          "text": [
            "* * * * * \n",
            "* * * * \n",
            "* * * \n",
            "* * \n",
            "* \n"
          ]
        }
      ],
      "source": [
        "pattern_3(5)"
      ]
    },
    {
      "cell_type": "code",
      "execution_count": null,
      "metadata": {
        "id": "wQDaeGo7lrxO"
      },
      "outputs": [],
      "source": [
        "# Pyramid pattern\n",
        "def pattern_4(n):\n",
        "  nst=1\n",
        "  nsp=n-1\n",
        "\n",
        "  for i in range(1,n+1):\n",
        "    for csp in range(1,nsp+1):\n",
        "      print(\" \",end=\"\")\n",
        "    for cst in range(1,nst+1):\n",
        "      print(\" *\",end=\"\")\n",
        "    nst+=1\n",
        "    nsp-=1\n",
        "    print()"
      ]
    },
    {
      "cell_type": "code",
      "execution_count": null,
      "metadata": {
        "colab": {
          "base_uri": "https://localhost:8080/"
        },
        "id": "C70qkRF7mEeY",
        "outputId": "4584a086-507c-4188-ae9b-b2cc8af890d4"
      },
      "outputs": [
        {
          "name": "stdout",
          "output_type": "stream",
          "text": [
            "     *\n",
            "    * *\n",
            "   * * *\n",
            "  * * * *\n",
            " * * * * *\n"
          ]
        }
      ],
      "source": [
        "pattern_4(5)"
      ]
    },
    {
      "cell_type": "code",
      "execution_count": null,
      "metadata": {
        "id": "K7lxqV8N182F"
      },
      "outputs": [],
      "source": [
        "def pattern_5(n):\n",
        "  nst=1\n",
        "  nsp=0\n",
        "\n",
        "  for i in range(1,n+1):\n",
        "    for csp in range(1,nsp+1):\n",
        "      print(\" \",end=\"\")\n",
        "    for cst in range(1,nst+1):\n",
        "      print(\" *\",end=\"\")\n",
        "    nst+=1\n",
        "    \n",
        "    print()"
      ]
    },
    {
      "cell_type": "code",
      "execution_count": null,
      "metadata": {
        "colab": {
          "base_uri": "https://localhost:8080/"
        },
        "id": "CZlkHwTb9ioI",
        "outputId": "06c023ad-23a6-4af1-e4dd-f8d029c207fe"
      },
      "outputs": [
        {
          "name": "stdout",
          "output_type": "stream",
          "text": [
            " *\n",
            " * *\n",
            " * * *\n",
            " * * * *\n",
            " * * * * *\n"
          ]
        }
      ],
      "source": [
        "pattern_5(5)"
      ]
    },
    {
      "cell_type": "code",
      "execution_count": null,
      "metadata": {
        "id": "JRqqxUNN9kmj"
      },
      "outputs": [],
      "source": [
        "# Increasing digits pattern\n",
        "def pattern_6(n):\n",
        "  num=0\n",
        "  count=1\n",
        "  for nums in range(1,n+1):\n",
        "    # Number\n",
        "    for digit in range(1,num+1):\n",
        "      print(count,\" \".format(digit),end=\"\")\n",
        "      count+=1\n",
        "    num+=1\n",
        "      \n",
        "    print()"
      ]
    },
    {
      "cell_type": "code",
      "execution_count": null,
      "metadata": {
        "colab": {
          "base_uri": "https://localhost:8080/"
        },
        "id": "XMrKHElc_Xf7",
        "outputId": "d03d661c-5669-461c-a87b-2471a11b1b71"
      },
      "outputs": [
        {
          "name": "stdout",
          "output_type": "stream",
          "text": [
            "\n",
            "1  \n",
            "2  3  \n",
            "4  5  6  \n",
            "7  8  9  10  \n"
          ]
        }
      ],
      "source": [
        "pattern_6(5)"
      ]
    },
    {
      "cell_type": "code",
      "execution_count": null,
      "metadata": {
        "id": "U_5laDTZ_ZIn"
      },
      "outputs": [],
      "source": [
        "# Fibonacci series pattern\n",
        "def pattern_7(n):\n",
        "  num=1\n",
        "  a=0\n",
        "  b=1\n",
        "  for nums in range(1,n+1):\n",
        "    # Number\n",
        "    for digit in range(1,num+1):\n",
        "      print(a,\" \",end=\"\")\n",
        "      sum=a+b\n",
        "      a=b\n",
        "      b=sum\n",
        "    num+=1\n",
        "      \n",
        "    print()"
      ]
    },
    {
      "cell_type": "code",
      "execution_count": null,
      "metadata": {
        "colab": {
          "base_uri": "https://localhost:8080/"
        },
        "id": "SLi86I1eBdCW",
        "outputId": "3c5889f7-f4f4-425e-ba5e-cc13b086e6d5"
      },
      "outputs": [
        {
          "name": "stdout",
          "output_type": "stream",
          "text": [
            "0  \n",
            "1  1  \n",
            "2  3  5  \n",
            "8  13  21  34  \n",
            "55  89  144  233  377  \n"
          ]
        }
      ],
      "source": [
        "pattern_7(5)"
      ]
    },
    {
      "cell_type": "code",
      "execution_count": null,
      "metadata": {
        "id": "KMS39TWIBgTJ"
      },
      "outputs": [],
      "source": [
        "# Binomial series pattern\n",
        "def pattern_binomialseries(N):\n",
        "  num=1\n",
        "  \n",
        "  for n in range(0,N):\n",
        "    # Number\n",
        "    val=1\n",
        "    for r in range(0,num):\n",
        "      print(val,\" \",end=\"\")\n",
        "      val=(n-r)*val/(r+1)\n",
        "    num+=1\n",
        "      \n",
        "    print()"
      ]
    },
    {
      "cell_type": "code",
      "execution_count": null,
      "metadata": {
        "colab": {
          "base_uri": "https://localhost:8080/"
        },
        "id": "1-v-0j3HFd-Z",
        "outputId": "1594b1d2-f646-4d78-8a14-8dabdb9a56d8"
      },
      "outputs": [
        {
          "name": "stdout",
          "output_type": "stream",
          "text": [
            "1  \n",
            "1  1.0  \n",
            "1  2.0  1.0  \n",
            "1  3.0  3.0  1.0  \n",
            "1  4.0  6.0  4.0  1.0  \n",
            "1  5.0  10.0  10.0  5.0  1.0  \n"
          ]
        }
      ],
      "source": [
        "pattern_binomialseries(6)"
      ]
    },
    {
      "cell_type": "code",
      "execution_count": null,
      "metadata": {
        "id": "qSCZKtxtFgMB"
      },
      "outputs": [],
      "source": [
        "# Inverse pyramid pattern\n",
        "def pattern_8(n):\n",
        "  nst=n\n",
        "  nsp=0\n",
        "\n",
        "  for i in range(1,n+1):\n",
        "    for csp in range(1,nsp+1):\n",
        "      print(\" \",end=\"\")\n",
        "    for cst in range(1,nst+1):\n",
        "      print(\" *\",end=\"\")\n",
        "    nst-=1\n",
        "    nsp+=1\n",
        "    print()"
      ]
    },
    {
      "cell_type": "code",
      "execution_count": null,
      "metadata": {
        "colab": {
          "base_uri": "https://localhost:8080/"
        },
        "id": "RLatzr4pGlyE",
        "outputId": "9be537f9-6192-435f-aacd-497ecd430d10"
      },
      "outputs": [
        {
          "name": "stdout",
          "output_type": "stream",
          "text": [
            " * * * * *\n",
            "  * * * *\n",
            "   * * *\n",
            "    * *\n",
            "     *\n"
          ]
        }
      ],
      "source": [
        "pattern_8(5)"
      ]
    },
    {
      "cell_type": "code",
      "execution_count": null,
      "metadata": {
        "id": "WKmhYN5dGniA"
      },
      "outputs": [],
      "source": [
        "# Factorial of number\n",
        "def factorial(n):\n",
        "  const=1\n",
        "  for num in range(1,n+1):\n",
        "    const*=num\n",
        "  return const  \n"
      ]
    },
    {
      "cell_type": "code",
      "execution_count": null,
      "metadata": {
        "colab": {
          "base_uri": "https://localhost:8080/"
        },
        "id": "KmP2aeY0Gi4G",
        "outputId": "c0e3b9d1-0764-411a-c71e-e16f68fc9fe0"
      },
      "outputs": [
        {
          "data": {
            "text/plain": [
              "40320"
            ]
          },
          "execution_count": 21,
          "metadata": {},
          "output_type": "execute_result"
        }
      ],
      "source": [
        "factorial(8)"
      ]
    },
    {
      "cell_type": "code",
      "execution_count": null,
      "metadata": {
        "id": "sOiDeP3ZIuDc"
      },
      "outputs": [],
      "source": [
        "# Program to check whether given number is Fibonacci or not.\n",
        "def fibonacci_checker(n):\n",
        "  a=0\n",
        "  b=1\n",
        "  fib_lst=[]\n",
        "  for num in range(round(n*1.5)):\n",
        "      fib_lst.append(a)\n",
        "      sum=a+b\n",
        "      a=b\n",
        "      b=sum\n",
        "  if n in fib_lst:\n",
        "    return \"It's a fibonacci number\"\n",
        "  else:\n",
        "    return \"It's not a fibonacci number\""
      ]
    },
    {
      "cell_type": "code",
      "execution_count": null,
      "metadata": {
        "colab": {
          "base_uri": "https://localhost:8080/"
        },
        "id": "IEskCalTLkFQ",
        "outputId": "04ef062c-6f9f-46f9-e596-276f4d357f08"
      },
      "outputs": [
        {
          "name": "stdout",
          "output_type": "stream",
          "text": [
            "It's a fibonacci number\n"
          ]
        }
      ],
      "source": [
        "print(fibonacci_checker(55))"
      ]
    },
    {
      "cell_type": "code",
      "execution_count": null,
      "metadata": {
        "colab": {
          "base_uri": "https://localhost:8080/"
        },
        "id": "lduhnxdPMi8N",
        "outputId": "d84a21a6-0c74-4321-b765-6f15f86b059f"
      },
      "outputs": [
        {
          "data": {
            "text/plain": [
              "[3, 7, 1]"
            ]
          },
          "execution_count": 64,
          "metadata": {},
          "output_type": "execute_result"
        }
      ],
      "source": [
        "#Program to Check whether numbers is Armstrong or not.\n",
        "'''An Armstrong number of three digits is an integer such that the sum of the \n",
        "cubes of its digits is equal to the number itself. For example, 371 is an \n",
        "Armstrong number since 3**3 + 7**3 + 1**3 = 371.'''\n",
        "\n",
        "n=371\n",
        "len=[i for i in map(int,str(n))]\n",
        "\n",
        "len"
      ]
    },
    {
      "cell_type": "code",
      "execution_count": null,
      "metadata": {
        "colab": {
          "base_uri": "https://localhost:8080/",
          "height": 187
        },
        "id": "J1DZ3jFkN0BI",
        "outputId": "13143fa2-f26b-4cdb-8665-6563f17d0604"
      },
      "outputs": [
        {
          "ename": "TypeError",
          "evalue": "ignored",
          "output_type": "error",
          "traceback": [
            "\u001b[0;31m---------------------------------------------------------------------------\u001b[0m",
            "\u001b[0;31mTypeError\u001b[0m                                 Traceback (most recent call last)",
            "\u001b[0;32m<ipython-input-56-9fac9d2607ff>\u001b[0m in \u001b[0;36m<module>\u001b[0;34m()\u001b[0m\n\u001b[1;32m      1\u001b[0m \u001b[0mnum\u001b[0m \u001b[0;34m=\u001b[0m \u001b[0;36m123456\u001b[0m\u001b[0;34m\u001b[0m\u001b[0;34m\u001b[0m\u001b[0m\n\u001b[0;32m----> 2\u001b[0;31m \u001b[0mprint\u001b[0m\u001b[0;34m(\u001b[0m\u001b[0mlen\u001b[0m\u001b[0;34m(\u001b[0m\u001b[0mstr\u001b[0m\u001b[0;34m(\u001b[0m\u001b[0mnum\u001b[0m\u001b[0;34m)\u001b[0m\u001b[0;34m)\u001b[0m\u001b[0;34m)\u001b[0m\u001b[0;34m\u001b[0m\u001b[0;34m\u001b[0m\u001b[0m\n\u001b[0m",
            "\u001b[0;31mTypeError\u001b[0m: 'map' object is not callable"
          ]
        }
      ],
      "source": [
        "num = 123456\n",
        "print(len(str(num)))"
      ]
    },
    {
      "cell_type": "code",
      "execution_count": null,
      "metadata": {
        "id": "duO7FXeoPl_X"
      },
      "outputs": [],
      "source": [
        "def Armstrong(a):\n",
        "    temp = a\n",
        "    result = 0\n",
        "    order = len([for i in str()])\n",
        "    while temp > 0:\n",
        "        digit = temp % 10\n",
        "        result += digit**order\n",
        "        temp //= 10\n",
        "    return \"It's an Armstrong Number\" if (result == a) else \"No, It's not an Armstrong Number\""
      ]
    },
    {
      "cell_type": "code",
      "execution_count": null,
      "metadata": {
        "colab": {
          "base_uri": "https://localhost:8080/",
          "height": 295
        },
        "id": "2QuWFrB5P6Zx",
        "outputId": "c6a07687-fec7-4e7e-c624-d2b0e2705cfa"
      },
      "outputs": [
        {
          "ename": "TypeError",
          "evalue": "ignored",
          "output_type": "error",
          "traceback": [
            "\u001b[0;31m---------------------------------------------------------------------------\u001b[0m",
            "\u001b[0;31mTypeError\u001b[0m                                 Traceback (most recent call last)",
            "\u001b[0;32m<ipython-input-58-5668eb87c08e>\u001b[0m in \u001b[0;36m<module>\u001b[0;34m()\u001b[0m\n\u001b[0;32m----> 1\u001b[0;31m \u001b[0mArmstrong\u001b[0m\u001b[0;34m(\u001b[0m\u001b[0;36m5\u001b[0m\u001b[0;34m)\u001b[0m\u001b[0;34m\u001b[0m\u001b[0;34m\u001b[0m\u001b[0m\n\u001b[0m",
            "\u001b[0;32m<ipython-input-57-7f9a3663fc85>\u001b[0m in \u001b[0;36mArmstrong\u001b[0;34m(a)\u001b[0m\n\u001b[1;32m      2\u001b[0m     \u001b[0mtemp\u001b[0m \u001b[0;34m=\u001b[0m \u001b[0ma\u001b[0m\u001b[0;34m\u001b[0m\u001b[0;34m\u001b[0m\u001b[0m\n\u001b[1;32m      3\u001b[0m     \u001b[0mresult\u001b[0m \u001b[0;34m=\u001b[0m \u001b[0;36m0\u001b[0m\u001b[0;34m\u001b[0m\u001b[0;34m\u001b[0m\u001b[0m\n\u001b[0;32m----> 4\u001b[0;31m     \u001b[0morder\u001b[0m \u001b[0;34m=\u001b[0m \u001b[0mlen\u001b[0m\u001b[0;34m(\u001b[0m\u001b[0mstr\u001b[0m\u001b[0;34m(\u001b[0m\u001b[0ma\u001b[0m\u001b[0;34m)\u001b[0m\u001b[0;34m)\u001b[0m\u001b[0;34m\u001b[0m\u001b[0;34m\u001b[0m\u001b[0m\n\u001b[0m\u001b[1;32m      5\u001b[0m     \u001b[0;32mwhile\u001b[0m \u001b[0mtemp\u001b[0m \u001b[0;34m>\u001b[0m \u001b[0;36m0\u001b[0m\u001b[0;34m:\u001b[0m\u001b[0;34m\u001b[0m\u001b[0;34m\u001b[0m\u001b[0m\n\u001b[1;32m      6\u001b[0m         \u001b[0mdigit\u001b[0m \u001b[0;34m=\u001b[0m \u001b[0mtemp\u001b[0m \u001b[0;34m%\u001b[0m \u001b[0;36m10\u001b[0m\u001b[0;34m\u001b[0m\u001b[0;34m\u001b[0m\u001b[0m\n",
            "\u001b[0;31mTypeError\u001b[0m: 'map' object is not callable"
          ]
        }
      ],
      "source": [
        "Armstrong(5)"
      ]
    },
    {
      "cell_type": "markdown",
      "metadata": {
        "id": "j47te8ztJleI"
      },
      "source": [
        "# Best Time to Buy and Sell Stock\n",
        "Input: prices = [7,1,5,3,6,4]\n",
        "Output: 5\n",
        "Explanation: Buy on day 2 (price = 1) and sell on day 5 (price = 6), profit = 6-1 = 5.\n",
        "Note that buying on day 2 and selling on day 1 is not allowed because you must buy before you sell."
      ]
    },
    {
      "cell_type": "code",
      "execution_count": null,
      "metadata": {
        "id": "Lqd0ZM4LP9aA"
      },
      "outputs": [],
      "source": [
        "prices = [7,1,5,3,6,4]\n",
        "def maxProfit(prices):\n",
        "  buy=prices[0]\n",
        "  max_prft=0\n",
        "  for ind in range(1,len(prices)):\n",
        "    # Check the price is less or greater than the specified buy value\n",
        "    if buy>prices[ind]:\n",
        "      buy=prices[ind]\n",
        "    # Otherwise calculate the maximum margin\n",
        "    elif (prices[ind]-buy)>max_prft:\n",
        "      max_prft=prices[ind]-buy\n",
        "  return max_prft\n"
      ]
    },
    {
      "cell_type": "code",
      "execution_count": null,
      "metadata": {
        "colab": {
          "base_uri": "https://localhost:8080/"
        },
        "id": "07-H9XKKKPIb",
        "outputId": "d0562146-fc34-48bc-d37a-66cc4a88b45a"
      },
      "outputs": [
        {
          "data": {
            "text/plain": [
              "5"
            ]
          },
          "execution_count": 10,
          "metadata": {},
          "output_type": "execute_result"
        }
      ],
      "source": [
        "maxProfit(prices)"
      ]
    },
    {
      "cell_type": "markdown",
      "metadata": {
        "id": "LYUII39sShz3"
      },
      "source": [
        "1. Input: prices = [7,1,5,3,6,4]\n",
        "\n",
        "        Output: 7\n",
        "\n",
        "  - Explanation:\n",
        "    \n",
        "    Buy on day 2 (price = 1) and sell on day 3 (price = 5), profit = 5-1 = 4.\n",
        "Then buy on day 4 (price = 3) and sell on day 5 (price = 6), profit = 6-3 = 3.\n",
        "Total profit is 4 + 3 = 7.\n",
        "\n",
        "2. Input: prices = [1,2,3,4,5]\n",
        "\n",
        "        Output: 4\n",
        "\n",
        "  Explanation: Buy on day 1 (price = 1) and sell on day 5 (price = 5), profit = 5-1 = 4.\n",
        "Total profit is 4."
      ]
    },
    {
      "cell_type": "code",
      "execution_count": null,
      "metadata": {
        "colab": {
          "base_uri": "https://localhost:8080/"
        },
        "id": "4GX1fLK8ShYr",
        "outputId": "516ac3c5-3d99-4005-8cce-f46eaa7ff3f0"
      },
      "outputs": [
        {
          "data": {
            "text/plain": [
              "7"
            ]
          },
          "execution_count": 27,
          "metadata": {},
          "output_type": "execute_result"
        }
      ],
      "source": [
        "max_prft=0\n",
        "for i in range(1,len(prices)):\n",
        "    if prices[i]>prices[i-1]:\n",
        "        max_prft+=prices[i]-prices[i-1]\n",
        "max_prft"
      ]
    },
    {
      "cell_type": "markdown",
      "metadata": {
        "id": "XRsvVazSkrCF"
      },
      "source": [
        "1. Input: prices = [7,1,5,3,6,4]\n",
        "\n",
        "  Output: 7\n",
        "\n",
        "  Explanation: Buy on day 2 (price = 1) and sell on day 3 (price = 5), profit = 5-1 = 4.\n",
        "Then buy on day 4 (price = 3) and sell on day 5 (price = 6), profit = 6-3 = 3.\n",
        "Total profit is 4 + 3 = 7.\n",
        "Example 2:\n",
        "\n",
        "2. Input: prices = [1,2,3,4,5]\n",
        "\n",
        "  Output: 4\n",
        "\n",
        "  Explanation: Buy on day 1 (price = 1) and sell on day 5 (price = 5), profit = 5-1 = 4.\n",
        "Total profit is 4.\n",
        "Example 3:\n",
        "\n",
        "3. Input: prices = [7,6,4,3,1]\n",
        "  Output: 0\n",
        "  Explanation: There is no way to make a positive profit, so we never buy the stock to achieve the maximum profit of 0."
      ]
    },
    {
      "cell_type": "markdown",
      "metadata": {
        "id": "oDVAdMEOlEdz"
      },
      "source": [
        "# Problem 3: Program to find HCF of numbers.\n",
        "HCF or Highest Common Factor is the greatest number which divides each of the two or more numbers. HCF is also called the Greatest Common Measure (GCM) and Greatest Common Divisor(GCD). HCM and LCM are two different methods, where LCM or Least Common Multiple is used to find the smallest common multiple of any two or more numbers."
      ]
    },
    {
      "cell_type": "markdown",
      "metadata": {
        "id": "vmL86AuelWPq"
      },
      "source": [
        "    - Input:\n",
        "            - Enter 1st Number: 5\n",
        "            - Enter 2nd Number: 12\n",
        "    - Output: HCF: 1"
      ]
    },
    {
      "cell_type": "code",
      "execution_count": null,
      "metadata": {
        "id": "aM8NCoXzlBvz"
      },
      "outputs": [],
      "source": [
        "def hcf(n,m):\n",
        "  n_div=[i for i in range(1,n) if n%i==0]\n",
        "  print(n_div)\n",
        "  m_div=[i for i in range(1,m) if m%i==0]  \n",
        "  print(m_div)\n",
        "  f_div=[i for i in n_div if i in m_div]\n",
        "\n",
        "  return print('The HCF of {} and {} is: {}'.format(n,m,max(f_div)))"
      ]
    },
    {
      "cell_type": "code",
      "execution_count": null,
      "metadata": {
        "colab": {
          "base_uri": "https://localhost:8080/"
        },
        "id": "wfCoIksakq0f",
        "outputId": "93faa56b-90c2-4b96-b2e7-912400564cf0"
      },
      "outputs": [
        {
          "name": "stdout",
          "output_type": "stream",
          "text": [
            "[1, 2, 3, 4, 6, 8, 12]\n",
            "[1, 2, 4, 5, 10]\n",
            "The HCF of 24 and 20 is: 4\n"
          ]
        }
      ],
      "source": [
        "hcf(24,20)"
      ]
    },
    {
      "cell_type": "markdown",
      "metadata": {
        "id": "x6-8tc9YnMwC"
      },
      "source": [
        "# Problem 4: Program to find LCM of numbers.\n",
        "LCM or Least Common Multiple is used to find the smallest common multiple of any two or more numbers.\n",
        "\n",
        "    - Input:\n",
        "          - Enter 1st Number: 5\n",
        "          - Enter 2nd Number: 12\n",
        "    - Output: LCM: 1"
      ]
    },
    {
      "cell_type": "code",
      "execution_count": null,
      "metadata": {
        "id": "nn_EXa2LnMe5"
      },
      "outputs": [],
      "source": [
        "def lcm(m,n):\n",
        "  m_div=[i for i in range(1,m) if m%i==0 ]\n",
        "  \n",
        "  n_div=[i for i in range(1,n) if n%i==0 ]\n",
        "  \n",
        "  f_div=[i for i in m_div if i in n_div]\n",
        "\n",
        "  return print('The LCM of {} and {} is: {}'.format(m,n,min(f_div)))"
      ]
    },
    {
      "cell_type": "code",
      "execution_count": null,
      "metadata": {
        "colab": {
          "base_uri": "https://localhost:8080/"
        },
        "id": "Ui2-NaqeUZ-e",
        "outputId": "83b2b764-3073-40f2-95a8-eada66d4b717"
      },
      "outputs": [
        {
          "name": "stdout",
          "output_type": "stream",
          "text": [
            "The HCF of 24 and 20 is: 4\n"
          ]
        }
      ],
      "source": [
        "hcf(24,20)"
      ]
    },
    {
      "cell_type": "code",
      "execution_count": null,
      "metadata": {
        "colab": {
          "base_uri": "https://localhost:8080/"
        },
        "id": "JzWScNeAoASu",
        "outputId": "ac76b3a7-41e0-44ad-fc59-eaf296a50991"
      },
      "outputs": [
        {
          "name": "stdout",
          "output_type": "stream",
          "text": [
            "6\n",
            "[1, 2, 3, 6]\n",
            "[1, 2, 5, 10]\n"
          ]
        },
        {
          "data": {
            "text/plain": [
              "2"
            ]
          },
          "execution_count": 36,
          "metadata": {},
          "output_type": "execute_result"
        }
      ],
      "source": [
        "nums=[10,6,9]\n",
        "len_nums=len(nums)-1\n",
        "s=min(nums)\n",
        "print(s)\n",
        "l=max(nums)\n",
        "s_div=[i for i in range(1,s+1) if s%i==0]\n",
        "print(s_div)\n",
        "l_div=[i for i in range(1,l+1) if l%i==0]\n",
        "print(l_div)        \n",
        "f_div=[i for i in s_div if i in l_div]\n",
        "\n",
        "max(f_div)       "
      ]
    },
    {
      "cell_type": "code",
      "execution_count": null,
      "metadata": {
        "colab": {
          "base_uri": "https://localhost:8080/"
        },
        "id": "IjS8dQwAqn1B",
        "outputId": "5200a013-460b-4636-b6fc-2ab6cffef2f5"
      },
      "outputs": [
        {
          "data": {
            "text/plain": [
              "5"
            ]
          },
          "execution_count": 30,
          "metadata": {},
          "output_type": "execute_result"
        }
      ],
      "source": [
        "len(nums)"
      ]
    },
    {
      "cell_type": "markdown",
      "metadata": {
        "id": "4QWvxKH5r87z"
      },
      "source": [
        "#Given an array of strings nums containing n unique binary strings each of length n, return a binary string of length n that does not appear in nums. If there are multiple answers, you may return any of them.\n",
        "\n",
        "- Example 1:\n",
        "\n",
        "    - Input: nums = [\"01\",\"10\"]\n",
        "    - Output: \"11\"\n",
        "- Explanation: \"11\" does not appear in nums. \"00\" would also be correct."
      ]
    },
    {
      "cell_type": "code",
      "execution_count": null,
      "metadata": {
        "colab": {
          "base_uri": "https://localhost:8080/"
        },
        "id": "MTdEM-Dlqv8S",
        "outputId": "cd0d0f94-0b64-4c9e-a21a-12660f64e108"
      },
      "outputs": [
        {
          "data": {
            "text/plain": [
              "<generator object <genexpr> at 0x7eff4d7dbbd0>"
            ]
          },
          "execution_count": 6,
          "metadata": {},
          "output_type": "execute_result"
        }
      ],
      "source": [
        "nums = [\"01\",\"10\"]\n",
        "def \n",
        "nums1=[j for i in range(len(nums)) for j in nums[i]]\n",
        "\n",
        "nums2=[ nums1[i]+nums1[i-1] for i in range(1,len(nums1))]  \n",
        "f_nums=(i for i in nums2 if i not in nums)\n",
        "f_nums\n",
        "    "
      ]
    },
    {
      "cell_type": "code",
      "execution_count": null,
      "metadata": {
        "colab": {
          "base_uri": "https://localhost:8080/"
        },
        "id": "GNcy2fV5sLCL",
        "outputId": "607e3ffb-7bec-4b21-c325-bb10e47ba825"
      },
      "outputs": [
        {
          "data": {
            "text/plain": [
              "['0', '1', '1', '0']"
            ]
          },
          "execution_count": 40,
          "metadata": {},
          "output_type": "execute_result"
        }
      ],
      "source": []
    },
    {
      "cell_type": "code",
      "execution_count": null,
      "metadata": {
        "id": "ShTPl2PewKCG"
      },
      "outputs": [],
      "source": [
        "#input -> a=[1,2,3,4,5], n=2\n",
        "\n",
        "a=[1,2,3,4,5]\n",
        "n=2\n",
        "\n",
        "def rotate(a,n):\n",
        "  n=n%len(a)\n",
        "  return a[n:]+a[:n]\n"
      ]
    },
    {
      "cell_type": "code",
      "execution_count": null,
      "metadata": {
        "colab": {
          "base_uri": "https://localhost:8080/"
        },
        "id": "wumyD3vCzwhN",
        "outputId": "4cf7b682-06f6-49bc-e427-00a6924c484c"
      },
      "outputs": [
        {
          "data": {
            "text/plain": [
              "[3, 4, 5, 1, 2]"
            ]
          },
          "execution_count": 45,
          "metadata": {},
          "output_type": "execute_result"
        }
      ],
      "source": [
        "rotate(a,2)"
      ]
    },
    {
      "cell_type": "code",
      "execution_count": null,
      "metadata": {
        "colab": {
          "base_uri": "https://localhost:8080/"
        },
        "id": "cCaK0Yqszxyh",
        "outputId": "977e8e81-f944-49e1-fba3-5b6e2efbbf0f"
      },
      "outputs": [
        {
          "data": {
            "text/plain": [
              "[3, 4, 5, 1, 2]"
            ]
          },
          "execution_count": 46,
          "metadata": {},
          "output_type": "execute_result"
        }
      ],
      "source": [
        "rotate(a,7)"
      ]
    },
    {
      "cell_type": "markdown",
      "metadata": {
        "id": "zhUNMuqNZ203"
      },
      "source": [
        "python program to get the index of the first occurrence in sorted array"
      ]
    },
    {
      "cell_type": "code",
      "execution_count": null,
      "metadata": {
        "id": "H35nZMEZz7XK"
      },
      "outputs": [],
      "source": [
        "a=[1, 2, 2, 2, 2, 3, 4, 7, 8, 8 ]\n",
        "def frt_occ(a):\n",
        "  a1=[]\n",
        "  for i in a:\n",
        "    if i not in a1:\n",
        "      a1.append(i)\n",
        "  return a1[0]"
      ]
    },
    {
      "cell_type": "code",
      "execution_count": null,
      "metadata": {
        "colab": {
          "base_uri": "https://localhost:8080/"
        },
        "id": "zVEmFEfcZ93k",
        "outputId": "e0673d01-4472-400f-a99e-97b7e7d420c5"
      },
      "outputs": [
        {
          "data": {
            "text/plain": [
              "1"
            ]
          },
          "execution_count": 19,
          "metadata": {},
          "output_type": "execute_result"
        }
      ],
      "source": [
        "frt_occ(a)"
      ]
    },
    {
      "cell_type": "code",
      "execution_count": null,
      "metadata": {
        "colab": {
          "base_uri": "https://localhost:8080/"
        },
        "id": "SRaZfbcpaQaf",
        "outputId": "2363c765-85fc-4114-a23e-10ae0f1166fd"
      },
      "outputs": [
        {
          "name": "stdout",
          "output_type": "stream",
          "text": [
            "[1, 2]\n"
          ]
        }
      ],
      "source": [
        "nums=[1,2,2,3,5,6,6,8]\n",
        "target=2\n",
        "first=-1\n",
        "last=-1\n",
        "for i in range(len(nums)):\n",
        "    if target!=nums[i]:\n",
        "       continue\n",
        "    if first==-1:\n",
        "      first=i\n",
        "    last=i\n",
        "print([first,last])"
      ]
    },
    {
      "cell_type": "markdown",
      "metadata": {
        "id": "McKyiYOJlFun"
      },
      "source": [
        "Given a sorted array of distinct integers and a target value, return the index if the target is found. If not, return the index where it would be if it were inserted in order.\n",
        "\n",
        "You must write an algorithm with O(log n) runtime complexity."
      ]
    },
    {
      "cell_type": "code",
      "execution_count": null,
      "metadata": {
        "id": "tjHCrfCvb7-L"
      },
      "outputs": [],
      "source": [
        "a=[1,2,3,6,8]\n",
        "target=4\n",
        "def searchInsert(a,t):\n",
        "  for i in range(len(a)):\n",
        "    if target==a[i]:\n",
        "      return i\n",
        "    elif target<a[i]:\n",
        "      return i\n",
        "  return i"
      ]
    },
    {
      "cell_type": "code",
      "execution_count": null,
      "metadata": {
        "colab": {
          "base_uri": "https://localhost:8080/"
        },
        "id": "Z2u3GsHhiB2Z",
        "outputId": "23b2fc0b-6878-4fbb-dcf4-564388a3bde7"
      },
      "outputs": [
        {
          "data": {
            "text/plain": [
              "3"
            ]
          },
          "execution_count": 68,
          "metadata": {},
          "output_type": "execute_result"
        }
      ],
      "source": [
        "searchInsert(a,target)"
      ]
    },
    {
      "cell_type": "code",
      "execution_count": null,
      "metadata": {
        "colab": {
          "base_uri": "https://localhost:8080/"
        },
        "id": "1fTzz0L9kLIh",
        "outputId": "867c84fd-9c08-40e6-a811-ca54bc9994ef"
      },
      "outputs": [
        {
          "data": {
            "text/plain": [
              "[0,\n",
              " 1,\n",
              " 1,\n",
              " 2,\n",
              " 3,\n",
              " 5,\n",
              " 8,\n",
              " 13,\n",
              " 21,\n",
              " 34,\n",
              " 55,\n",
              " 89,\n",
              " 144,\n",
              " 233,\n",
              " 377,\n",
              " 610,\n",
              " 987,\n",
              " 1597,\n",
              " 2584,\n",
              " 4181,\n",
              " 6765,\n",
              " 10946,\n",
              " 17711,\n",
              " 28657,\n",
              " 46368,\n",
              " 75025,\n",
              " 121393,\n",
              " 196418,\n",
              " 317811,\n",
              " 514229,\n",
              " 832040,\n",
              " 1346269,\n",
              " 2178309,\n",
              " 3524578,\n",
              " 5702887,\n",
              " 9227465,\n",
              " 14930352,\n",
              " 24157817,\n",
              " 39088169,\n",
              " 63245986,\n",
              " 102334155,\n",
              " 165580141,\n",
              " 267914296,\n",
              " 433494437,\n",
              " 701408733,\n",
              " 1134903170,\n",
              " 1836311903,\n",
              " 2971215073,\n",
              " 4807526976,\n",
              " 7778742049,\n",
              " 12586269025,\n",
              " 20365011074,\n",
              " 32951280099,\n",
              " 53316291173,\n",
              " 86267571272,\n",
              " 139583862445,\n",
              " 225851433717,\n",
              " 365435296162,\n",
              " 591286729879,\n",
              " 956722026041,\n",
              " 1548008755920,\n",
              " 2504730781961,\n",
              " 4052739537881,\n",
              " 6557470319842,\n",
              " 10610209857723,\n",
              " 17167680177565,\n",
              " 27777890035288,\n",
              " 44945570212853,\n",
              " 72723460248141,\n",
              " 117669030460994,\n",
              " 190392490709135,\n",
              " 308061521170129,\n",
              " 498454011879264,\n",
              " 806515533049393,\n",
              " 1304969544928657,\n",
              " 2111485077978050,\n",
              " 3416454622906707]"
            ]
          },
          "execution_count": 69,
          "metadata": {},
          "output_type": "execute_result"
        }
      ],
      "source": [
        "a=77\n",
        "b=0\n",
        "c=1\n",
        "fib_lst=[]\n",
        "for i in range(1,a+1):\n",
        "  fib_lst.append(b)\n",
        "  sum=b+c\n",
        "  b=c\n",
        "  c=sum\n",
        "fib_lst"
      ]
    },
    {
      "cell_type": "code",
      "execution_count": null,
      "metadata": {
        "id": "V5NCRidinNcO"
      },
      "outputs": [],
      "source": []
    },
    {
      "cell_type": "markdown",
      "metadata": {
        "id": "_QVqA_WunGfg"
      },
      "source": [
        "# Momspresso python question unsolved"
      ]
    },
    {
      "cell_type": "code",
      "execution_count": 7,
      "metadata": {
        "colab": {
          "base_uri": "https://localhost:8080/",
          "height": 340
        },
        "id": "B_tY81z1xSrk",
        "outputId": "ff1fa353-16c3-4be7-b1e2-4a496f7e5d88"
      },
      "outputs": [
        {
          "name": "stdout",
          "output_type": "stream",
          "text": [
            "[5, 6]\n",
            "[5, 6]\n",
            "[3, 5]\n",
            "[3, 5]\n",
            "[1, 2]\n",
            "[1, 2]\n"
          ]
        },
        {
          "ename": "IndexError",
          "evalue": "ignored",
          "output_type": "error",
          "traceback": [
            "\u001b[0;31m---------------------------------------------------------------------------\u001b[0m",
            "\u001b[0;31mIndexError\u001b[0m                                Traceback (most recent call last)",
            "\u001b[0;32m<ipython-input-7-58584ac2ce69>\u001b[0m in \u001b[0;36m<module>\u001b[0;34m()\u001b[0m\n\u001b[1;32m      3\u001b[0m \u001b[0;34m\u001b[0m\u001b[0m\n\u001b[1;32m      4\u001b[0m \u001b[0;32mfor\u001b[0m \u001b[0mlst\u001b[0m \u001b[0;32min\u001b[0m \u001b[0mrange\u001b[0m\u001b[0;34m(\u001b[0m\u001b[0;36m1\u001b[0m\u001b[0;34m,\u001b[0m\u001b[0mlen\u001b[0m\u001b[0;34m(\u001b[0m\u001b[0mintrvl\u001b[0m\u001b[0;34m)\u001b[0m\u001b[0;34m+\u001b[0m\u001b[0;36m1\u001b[0m\u001b[0;34m)\u001b[0m\u001b[0;34m:\u001b[0m\u001b[0;34m\u001b[0m\u001b[0;34m\u001b[0m\u001b[0m\n\u001b[0;32m----> 5\u001b[0;31m   \u001b[0mb\u001b[0m\u001b[0;34m=\u001b[0m\u001b[0mintrvl\u001b[0m\u001b[0;34m.\u001b[0m\u001b[0mpop\u001b[0m\u001b[0;34m(\u001b[0m\u001b[0ma\u001b[0m\u001b[0;34m)\u001b[0m\u001b[0;34m\u001b[0m\u001b[0;34m\u001b[0m\u001b[0m\n\u001b[0m\u001b[1;32m      6\u001b[0m   \u001b[0ma\u001b[0m\u001b[0;34m+=\u001b[0m\u001b[0;36m1\u001b[0m\u001b[0;34m\u001b[0m\u001b[0;34m\u001b[0m\u001b[0m\n\u001b[1;32m      7\u001b[0m   \u001b[0;32mfor\u001b[0m \u001b[0mitem\u001b[0m \u001b[0;32min\u001b[0m \u001b[0mb\u001b[0m\u001b[0;34m:\u001b[0m\u001b[0;34m\u001b[0m\u001b[0;34m\u001b[0m\u001b[0m\n",
            "\u001b[0;31mIndexError\u001b[0m: pop index out of range"
          ]
        }
      ],
      "source": [
        "intrvl=[[5,6],[7,10],[3,5],[4,7],[1,2]]\n"
      ]
    },
    {
      "cell_type": "code",
      "execution_count": null,
      "metadata": {
        "colab": {
          "base_uri": "https://localhost:8080/"
        },
        "id": "fZoGvCLk1Nrk",
        "outputId": "e4a0bc79-9d7b-4708-821b-af575e528e6a"
      },
      "outputs": [
        {
          "data": {
            "text/plain": [
              "[1, 3, 5, 4]"
            ]
          },
          "execution_count": 34,
          "metadata": {},
          "output_type": "execute_result"
        }
      ],
      "source": [
        "l=[1,2,3,5,4]\n",
        "l.pop(1)\n",
        "l"
      ]
    },
    {
      "cell_type": "code",
      "execution_count": null,
      "metadata": {
        "colab": {
          "base_uri": "https://localhost:8080/"
        },
        "id": "dTwfx7piACuS",
        "outputId": "10b316f2-e6d4-4e21-e1a8-bcf5eae96f6d"
      },
      "outputs": [
        {
          "name": "stdout",
          "output_type": "stream",
          "text": [
            "Enter a number: 5\n",
            "Enter a number: 8\n",
            "The sum of 5 and 8 is 13\n"
          ]
        }
      ],
      "source": [
        "int1=int(input(\"Enter a number: \"))\n",
        "int2=int(input(\"Enter a number: \"))\n",
        "print(\"The sum of {} and {} is {}\".format(int1,int2,int1+int2))"
      ]
    },
    {
      "cell_type": "code",
      "execution_count": null,
      "metadata": {
        "id": "bjse9hwqRb0K"
      },
      "outputs": [],
      "source": []
    },
    {
      "cell_type": "markdown",
      "metadata": {
        "id": "ToOM5WnFnODl"
      },
      "source": [
        "# Code with harry create dictionary"
      ]
    },
    {
      "cell_type": "code",
      "execution_count": null,
      "metadata": {
        "id": "oh-YVbi4nSoz"
      },
      "outputs": [],
      "source": [
        "dictionary={'Up':'Down','High':'Low','Fast':'Slow'}"
      ]
    },
    {
      "cell_type": "code",
      "execution_count": null,
      "metadata": {
        "colab": {
          "base_uri": "https://localhost:8080/"
        },
        "id": "jAc5v2cZxLf4",
        "outputId": "cacee6d3-203a-4d43-c4aa-05df610aef85"
      },
      "outputs": [
        {
          "name": "stdout",
          "output_type": "stream",
          "text": [
            "Enter a word to know its oppostite words: 888\n",
            "Give matching word\n"
          ]
        }
      ],
      "source": [
        "inp=input(\"Enter a word to know its oppostite words: \")\n",
        "\n",
        "for k,n in dictionary.items():\n",
        "  if inp == k :\n",
        "    print(n) \n",
        "  else:\n",
        "    print('Give a matching word')\n",
        "    break"
      ]
    },
    {
      "cell_type": "code",
      "execution_count": null,
      "metadata": {
        "colab": {
          "base_uri": "https://localhost:8080/",
          "height": 219
        },
        "id": "T6TPL4VjRKZa",
        "outputId": "15db1087-ec8b-45f8-83ae-af052d4f496f"
      },
      "outputs": [
        {
          "name": "stdout",
          "output_type": "stream",
          "text": [
            "Enter your desired word and get its opposite: fast\n"
          ]
        },
        {
          "ename": "KeyError",
          "evalue": "ignored",
          "output_type": "error",
          "traceback": [
            "\u001b[0;31m---------------------------------------------------------------------------\u001b[0m",
            "\u001b[0;31mKeyError\u001b[0m                                  Traceback (most recent call last)",
            "\u001b[0;32m<ipython-input-7-6bd3aeff6a39>\u001b[0m in \u001b[0;36m<module>\u001b[0;34m()\u001b[0m\n\u001b[1;32m      2\u001b[0m \u001b[0mdictionary\u001b[0m\u001b[0;34m=\u001b[0m\u001b[0;34m{\u001b[0m\u001b[0;34m'Up'\u001b[0m\u001b[0;34m:\u001b[0m\u001b[0;34m'Down'\u001b[0m\u001b[0;34m,\u001b[0m\u001b[0;34m'High'\u001b[0m\u001b[0;34m:\u001b[0m\u001b[0;34m'Low'\u001b[0m\u001b[0;34m,\u001b[0m\u001b[0;34m'Fast'\u001b[0m\u001b[0;34m:\u001b[0m\u001b[0;34m'Slow'\u001b[0m\u001b[0;34m}\u001b[0m\u001b[0;34m\u001b[0m\u001b[0;34m\u001b[0m\u001b[0m\n\u001b[1;32m      3\u001b[0m \u001b[0minp\u001b[0m\u001b[0;34m=\u001b[0m\u001b[0minput\u001b[0m\u001b[0;34m(\u001b[0m\u001b[0;34m\"Enter your desired word and get its opposite: \"\u001b[0m\u001b[0;34m)\u001b[0m\u001b[0;34m\u001b[0m\u001b[0;34m\u001b[0m\u001b[0m\n\u001b[0;32m----> 4\u001b[0;31m \u001b[0mdictionary\u001b[0m\u001b[0;34m[\u001b[0m\u001b[0minp\u001b[0m\u001b[0;34m]\u001b[0m\u001b[0;34m\u001b[0m\u001b[0;34m\u001b[0m\u001b[0m\n\u001b[0m",
            "\u001b[0;31mKeyError\u001b[0m: 'fast'"
          ]
        }
      ],
      "source": [
        "# Simpe way\n",
        "dictionary={'Up':'Down','High':'Low','Fast':'Slow'}\n",
        "inp=input(\"Enter your desired word and get its opposite: \")\n",
        "dictionary[inp]"
      ]
    },
    {
      "cell_type": "code",
      "execution_count": null,
      "metadata": {
        "id": "uO6LmM9bxpBb"
      },
      "outputs": [],
      "source": [
        "if inp==dictionary.items():\n",
        "  print(dictionary.value())"
      ]
    },
    {
      "cell_type": "markdown",
      "metadata": {
        "id": "5Z5zI_P3z7I0"
      },
      "source": [
        "# Set code with harry"
      ]
    },
    {
      "cell_type": "code",
      "execution_count": null,
      "metadata": {
        "id": "4It2xZTGy8dz"
      },
      "outputs": [],
      "source": [
        "s={1,2,3,4,5}\n",
        "s1={4,5,6,7,8,9}\n",
        "\n",
        "s3=s.union(s1)"
      ]
    },
    {
      "cell_type": "code",
      "execution_count": null,
      "metadata": {
        "id": "9yv5EhF-0mHf"
      },
      "outputs": [],
      "source": [
        "s4={11,12,13,14}"
      ]
    },
    {
      "cell_type": "code",
      "execution_count": null,
      "metadata": {
        "colab": {
          "base_uri": "https://localhost:8080/"
        },
        "id": "1_UhPZ660G0j",
        "outputId": "809d6f61-b4ea-49b3-a190-cf32ff043ce5"
      },
      "outputs": [
        {
          "data": {
            "text/plain": [
              "{1, 2, 3, 4, 5}"
            ]
          },
          "execution_count": 18,
          "metadata": {},
          "output_type": "execute_result"
        }
      ],
      "source": [
        "s.intersection(s3)"
      ]
    },
    {
      "cell_type": "code",
      "execution_count": null,
      "metadata": {
        "colab": {
          "base_uri": "https://localhost:8080/"
        },
        "id": "R-2T_OVo0MNy",
        "outputId": "81f5a07f-f670-4e75-c070-7e87bf4b7a8f"
      },
      "outputs": [
        {
          "name": "stdout",
          "output_type": "stream",
          "text": [
            "True\n"
          ]
        }
      ],
      "source": [
        "print(s.isdisjoint(s4))"
      ]
    },
    {
      "cell_type": "code",
      "execution_count": null,
      "metadata": {
        "id": "zC_g7jtL0XD7"
      },
      "outputs": [],
      "source": [
        "s5=list(s4)"
      ]
    },
    {
      "cell_type": "code",
      "execution_count": null,
      "metadata": {
        "colab": {
          "base_uri": "https://localhost:8080/"
        },
        "id": "vTd46KSt0twT",
        "outputId": "b2fcf155-0956-4b96-9ae0-22d2374e0eb1"
      },
      "outputs": [
        {
          "data": {
            "text/plain": [
              "[11, 12, 13, 14, [4, 2, 5, 6, 4], 1, 2, 3, 4]"
            ]
          },
          "execution_count": 40,
          "metadata": {},
          "output_type": "execute_result"
        }
      ],
      "source": [
        "s5+[1,2,3,4]"
      ]
    },
    {
      "cell_type": "code",
      "execution_count": null,
      "metadata": {
        "id": "wEExSA1u000W"
      },
      "outputs": [],
      "source": [
        "s5.remove(s5[4])"
      ]
    },
    {
      "cell_type": "code",
      "execution_count": null,
      "metadata": {
        "colab": {
          "base_uri": "https://localhost:8080/"
        },
        "id": "YyunQvqT1HeB",
        "outputId": "95d1eb34-bd57-4b85-cfa2-5b8f9b0aa28a"
      },
      "outputs": [
        {
          "data": {
            "text/plain": [
              "[11, 12, 13, 14]"
            ]
          },
          "execution_count": 43,
          "metadata": {},
          "output_type": "execute_result"
        }
      ],
      "source": [
        "s5"
      ]
    },
    {
      "cell_type": "markdown",
      "metadata": {
        "id": "u270MlzJ5yCp"
      },
      "source": [
        "# If else code with harry"
      ]
    },
    {
      "cell_type": "code",
      "execution_count": null,
      "metadata": {
        "colab": {
          "base_uri": "https://localhost:8080/"
        },
        "id": "GcKcv_O01mPH",
        "outputId": "45a1781e-fa17-426e-c4ab-a6a5da862c37"
      },
      "outputs": [
        {
          "name": "stdout",
          "output_type": "stream",
          "text": [
            "Enter your age in years 888\n",
            "Please provide a valid age\n",
            "Enter your age in years 65\n",
            "You can drive the car\n"
          ]
        }
      ],
      "source": [
        "age=int(input(\"Enter your age in years \"))\n",
        "if age>80:\n",
        "  print(\"Please provide a valid age\")\n",
        "  age=int(input(\"Enter your age in years \"))\n",
        "if (age>18):\n",
        "  print(\"You can drive the car\")\n",
        "elif age==18:\n",
        "  print(\"We can not decide\")\n",
        "else: \n",
        "  print(\"You can not drive the car\")"
      ]
    },
    {
      "cell_type": "markdown",
      "metadata": {
        "id": "pxu58B_1T5DN"
      },
      "source": [
        "# Faulty calculator code with harry\n",
        "Design a calculator which correctly solves all the problems except  the following ones\n",
        "\n",
        "45*3=555 56+9=77 56/6=4\n",
        "\n",
        "Program should take operator and two numbers from user"
      ]
    },
    {
      "cell_type": "code",
      "execution_count": 7,
      "metadata": {
        "colab": {
          "base_uri": "https://localhost:8080/"
        },
        "id": "tOfJ9hMbT429",
        "outputId": "2f0cb861-9e98-4a78-c9f2-5a65cbb31c85"
      },
      "outputs": [
        {
          "name": "stdout",
          "output_type": "stream",
          "text": [
            "6.222222222222222\n"
          ]
        },
        {
          "ename": "",
          "evalue": "",
          "output_type": "error",
          "traceback": [
            "\u001b[1;31mThe Kernel crashed while executing code in the the current cell or a previous cell. Please review the code in the cell(s) to identify a possible cause of the failure. Click <a href='https://aka.ms/vscodeJupyterKernelCrash'>here</a> for more info. View Jupyter <a href='command:jupyter.viewOutput'>log</a> for further details."
          ]
        }
      ],
      "source": [
        "num1,num2=input(\"Enter two numbers of ypur choice: \").split()\n",
        "oprtr=input(\"Enter operator of your choice(*,/,+,-): \")\n",
        "\n",
        "if int(num1)==45 and int(num2)==3 and oprtr=='*' :\n",
        "  print(555)\n",
        "elif int(num1)==56 and int(num2)==9 and oprtr=='+':\n",
        "  print(77)\n",
        "elif int(num1)==56 and int(num2)==6 and oprtr=='/' :\n",
        "  print(4)\n",
        "else:\n",
        "  if oprtr=='+':\n",
        "    print(int(num1)+int(num2))\n",
        "  elif oprtr=='-':\n",
        "    print(int(num1)-int(num2))\n",
        "  elif oprtr=='*':\n",
        "    print(int(num1)*int(num2))\n",
        "  else:\n",
        "    print(int(num1)/int(num2))"
      ]
    },
    {
      "cell_type": "code",
      "execution_count": null,
      "metadata": {
        "id": "qAxjzIOi6Q0w"
      },
      "outputs": [],
      "source": []
    },
    {
      "cell_type": "markdown",
      "metadata": {
        "id": "dnr-W611a0kU"
      },
      "source": [
        "# List and numbers code with harry\n",
        "Create a list of numbers, words and check if the number is numeric or not and if it is numeric print those numbers which are greater then 5."
      ]
    },
    {
      "cell_type": "code",
      "execution_count": null,
      "metadata": {
        "colab": {
          "base_uri": "https://localhost:8080/",
          "height": 219
        },
        "id": "vmK7LHdKbi72",
        "outputId": "f9dcbcf4-61e6-4282-de6d-4467cf64a6b6"
      },
      "outputs": [
        {
          "ename": "AttributeError",
          "evalue": "ignored",
          "output_type": "error",
          "traceback": [
            "\u001b[0;31m---------------------------------------------------------------------------\u001b[0m",
            "\u001b[0;31mAttributeError\u001b[0m                            Traceback (most recent call last)",
            "\u001b[0;32m<ipython-input-35-9fb47cd7eb6c>\u001b[0m in \u001b[0;36m<module>\u001b[0;34m()\u001b[0m\n\u001b[1;32m      2\u001b[0m \u001b[0;34m\u001b[0m\u001b[0m\n\u001b[1;32m      3\u001b[0m \u001b[0;32mfor\u001b[0m \u001b[0mitem\u001b[0m \u001b[0;32min\u001b[0m \u001b[0mlst\u001b[0m\u001b[0;34m:\u001b[0m\u001b[0;34m\u001b[0m\u001b[0;34m\u001b[0m\u001b[0m\n\u001b[0;32m----> 4\u001b[0;31m   \u001b[0;32mif\u001b[0m \u001b[0mitem\u001b[0m\u001b[0;34m.\u001b[0m\u001b[0misalpha\u001b[0m\u001b[0;34m(\u001b[0m\u001b[0;34m)\u001b[0m \u001b[0;32mand\u001b[0m \u001b[0mitem\u001b[0m\u001b[0;34m>\u001b[0m\u001b[0;36m5\u001b[0m\u001b[0;34m:\u001b[0m\u001b[0;34m\u001b[0m\u001b[0;34m\u001b[0m\u001b[0m\n\u001b[0m\u001b[1;32m      5\u001b[0m     \u001b[0mprint\u001b[0m\u001b[0;34m(\u001b[0m\u001b[0mitem\u001b[0m\u001b[0;34m)\u001b[0m\u001b[0;34m\u001b[0m\u001b[0;34m\u001b[0m\u001b[0m\n",
            "\u001b[0;31mAttributeError\u001b[0m: type object 'int' has no attribute 'isalpha'"
          ]
        }
      ],
      "source": [
        "lst=[int,float,'anis','bagwan',8,6,9,7,4,5,55,69,14,89,52,5]\n",
        "\n",
        "for item in lst:\n",
        "  if item.aplha():\n",
        "    print(item)"
      ]
    },
    {
      "cell_type": "markdown",
      "metadata": {
        "id": "TxR89OQdeINd"
      },
      "source": [
        "# Write a Python program to check whether a String is Palindrome or not?"
      ]
    },
    {
      "cell_type": "code",
      "execution_count": null,
      "metadata": {
        "colab": {
          "base_uri": "https://localhost:8080/"
        },
        "id": "w3EMhuJ3b1Fp",
        "outputId": "1d056eab-4367-415f-ea58-a45f14cc0946"
      },
      "outputs": [
        {
          "name": "stdout",
          "output_type": "stream",
          "text": [
            "String is not palindrome\n"
          ]
        }
      ],
      "source": [
        "string='bba'\n",
        "if string[:]==string[::-1]:\n",
        "  print(\"String is palindrome\")\n",
        "else:\n",
        "  print(\"String is not palindrome\")"
      ]
    },
    {
      "cell_type": "markdown",
      "metadata": {
        "id": "1dneD9csfR3s"
      },
      "source": [
        "#Write a python program to remove a given character from string.\n",
        "\n",
        "For Example:\n",
        "\n",
        "Input String: Quescol\n",
        "\n",
        "Input Character : e\n",
        "\n",
        "Output: Quscol (After removing ‘e’)"
      ]
    },
    {
      "cell_type": "code",
      "execution_count": null,
      "metadata": {
        "colab": {
          "base_uri": "https://localhost:8080/",
          "height": 35
        },
        "id": "_vMbRzYMduhd",
        "outputId": "690e6064-372b-4c73-9120-6d6cd9ee356d"
      },
      "outputs": [
        {
          "data": {
            "application/vnd.google.colaboratory.intrinsic+json": {
              "type": "string"
            },
            "text/plain": [
              "'m chine le rning'"
            ]
          },
          "execution_count": 59,
          "metadata": {},
          "output_type": "execute_result"
        }
      ],
      "source": [
        "string=\"machine learning\"\n",
        "chr=\"e\"\n",
        "string=string.replace(\"a\",\" \")\n",
        "string"
      ]
    },
    {
      "cell_type": "code",
      "execution_count": null,
      "metadata": {
        "colab": {
          "base_uri": "https://localhost:8080/"
        },
        "id": "7mSWCeOmfsfb",
        "outputId": "013d3ace-17fb-42ea-8bfc-464901b39894"
      },
      "outputs": [
        {
          "name": "stdout",
          "output_type": "stream",
          "text": [
            "m chine learning\n"
          ]
        }
      ],
      "source": [
        "str1=\"machine learning\"\n",
        "print(str1.replace(\"a\",\" \",1).lower())"
      ]
    },
    {
      "cell_type": "markdown",
      "metadata": {
        "id": "nqiic5a4jLKH"
      },
      "source": [
        "#Write a python program to find the last position of a given substring.\n",
        "Input:\n",
        "Emma is a data scientist who knows Python. Emma works at google.\n",
        "\n",
        "Emma\n",
        "\n",
        "Output:\n",
        "Last occurrence of Emma starts at index 43"
      ]
    },
    {
      "cell_type": "code",
      "execution_count": null,
      "metadata": {
        "colab": {
          "base_uri": "https://localhost:8080/"
        },
        "id": "enu9DkbMgfv-",
        "outputId": "a959c5d8-17b8-4f44-fff5-948eed7bec55"
      },
      "outputs": [
        {
          "name": "stdout",
          "output_type": "stream",
          "text": [
            "Last occurrence of until starts at index 22\n"
          ]
        }
      ],
      "source": [
        "str_1=\"Practice and practice until you fail.\"\n",
        "word=\"until\"\n",
        "print(\"Last occurrence of {} starts at index {}\".format(word,str_1.rindex(word)))"
      ]
    },
    {
      "cell_type": "code",
      "execution_count": null,
      "metadata": {
        "colab": {
          "base_uri": "https://localhost:8080/"
        },
        "id": "OqFX8O5RjdK-",
        "outputId": "3cf9a791-b92c-4315-9de8-69a541914171"
      },
      "outputs": [
        {
          "data": {
            "text/plain": [
              "43"
            ]
          },
          "execution_count": 78,
          "metadata": {},
          "output_type": "execute_result"
        }
      ],
      "source": [
        "str_1.rindex(word)"
      ]
    },
    {
      "cell_type": "markdown",
      "metadata": {
        "id": "EfDq1-o_nfEj"
      },
      "source": [
        "#Write a Python program to swap two number without using third variable.\n",
        "\n",
        "Example 1:\n",
        "Input:\n",
        "a=9\n",
        "\n",
        "b=2\n",
        "\n",
        "Output:\n",
        "value of a is : 9\n",
        "\n",
        "value of b is : 2\n",
        "\n",
        "After swapping\n",
        "\n",
        "value of a is : 2\n",
        "\n",
        "value of b is : 9"
      ]
    },
    {
      "cell_type": "code",
      "execution_count": null,
      "metadata": {
        "colab": {
          "base_uri": "https://localhost:8080/"
        },
        "id": "a-KOFLXZkJ7w",
        "outputId": "04d91e17-39d3-4f16-b259-046d4f59d204"
      },
      "outputs": [
        {
          "name": "stdout",
          "output_type": "stream",
          "text": [
            "5\n",
            "6\n",
            "value of a is:  5\n",
            "value of b is:  6\n",
            "After swapping\n",
            "value of a is:  6\n",
            "value of b is:  5\n"
          ]
        }
      ],
      "source": [
        "a=int(input())\n",
        "b=int(input())\n",
        "print(\"value of a is: \",a)\n",
        "print(\"value of b is: \",b)\n",
        "a,b=b,a\n",
        "print(\"After swapping\")\n",
        "print(\"value of a is: \",a)\n",
        "print(\"value of b is: \",b)"
      ]
    },
    {
      "cell_type": "markdown",
      "metadata": {
        "id": "9rmLCrnwlok6"
      },
      "source": [
        "#Write a Python program to create a lambda function that adds 15 to a given number passed in as an argument, also create a lambda function that multiplies argument x with argument y and print the result.\n",
        "\n",
        "Example 1:\n",
        "Input:\n",
        "add=10\n",
        "\n",
        "mult1=12\n",
        "\n",
        "mult2=4\n",
        "\n",
        "Output:\n",
        "After addition: 25\n",
        "\n",
        "After multiplication: 48"
      ]
    },
    {
      "cell_type": "code",
      "execution_count": 4,
      "metadata": {
        "colab": {
          "base_uri": "https://localhost:8080/"
        },
        "id": "vlZ7hkc1nitO",
        "outputId": "7b5a40a4-91a3-4428-bc3e-dbfd512b850a"
      },
      "outputs": [
        {
          "name": "stdout",
          "output_type": "stream",
          "text": [
            "After addition: 25\n",
            "\n",
            "After multiplication: 48\n"
          ]
        }
      ],
      "source": [
        "add=10\n",
        "mult1=12\n",
        "mult2=4\n",
        "a= (lambda x: x+15)\n",
        "b=(lambda x,y : x*y)\n",
        "print('After addition:',a(add))\n",
        "print('\\nAfter multiplication:',b(mult1,mult2))"
      ]
    },
    {
      "cell_type": "markdown",
      "metadata": {
        "id": "1xK3YR2PmLbB"
      },
      "source": [
        "#Find Tuple with smallest indexEasy\n",
        "Write a Python program to find a tuple, the smallest second index value from a list of tuples.\n",
        "\n",
        "Example 1:\n",
        "Input:\n",
        "x= [(4, 1), (1, 2), (6, 0)]\n",
        "\n",
        "Output:\n",
        "(6, 0)"
      ]
    },
    {
      "cell_type": "code",
      "execution_count": 42,
      "metadata": {
        "colab": {
          "base_uri": "https://localhost:8080/"
        },
        "id": "vvy2diqmlyZG",
        "outputId": "504856a5-d824-4030-905f-a76b78b24940"
      },
      "outputs": [
        {
          "name": "stdout",
          "output_type": "stream",
          "text": [
            "(6, 0)\n"
          ]
        }
      ],
      "source": [
        "x= [(4, 1), (1, 2), (6, 0)]\n",
        "a=0\n",
        "for i in range(len(x)):\n",
        "  if x[i][1]<=a:\n",
        "    print(x[i])\n",
        "    "
      ]
    },
    {
      "cell_type": "code",
      "execution_count": 2,
      "metadata": {
        "colab": {
          "base_uri": "https://localhost:8080/"
        },
        "id": "ks5guxHW5SiO",
        "outputId": "6c0b9c9e-4146-42c6-9d55-fa73fe08a08e"
      },
      "outputs": [
        {
          "name": "stdout",
          "output_type": "stream",
          "text": [
            "(6, 0)\n"
          ]
        }
      ],
      "source": [
        "y= [(4, 1), (1, 2), (6, 0)]\n",
        "print(min(y, key=lambda n: (n[1], -n[0])))"
      ]
    },
    {
      "cell_type": "code",
      "execution_count": null,
      "metadata": {
        "id": "Eomd1FEI5s84"
      },
      "outputs": [],
      "source": [
        "print()"
      ]
    },
    {
      "cell_type": "markdown",
      "metadata": {
        "id": "8G70g-Fj-SdF"
      },
      "source": [
        "# Python program to sort a list of tuples by second Item"
      ]
    },
    {
      "cell_type": "code",
      "execution_count": null,
      "metadata": {
        "id": "Lz_wDMqm-SBm"
      },
      "outputs": [],
      "source": []
    },
    {
      "cell_type": "markdown",
      "metadata": {
        "id": "iR57PS2GBXKB"
      },
      "source": [
        "#Euclidean Distance Formula\n",
        "As discussed above, the Euclidean distance formula helps to find the distance of a line segment. Let us assume two points, such as (x1, y1) and (x2, y2) in the two-dimensional coordinate plane.\n",
        "\n",
        "Thus, the Euclidean distance formula is given by:\n",
        "\n",
        "d =√[(x2 – x1)2 + (y2 – y1)2]\n",
        "\n",
        "Where,\n",
        "\n",
        "“d” is the Euclidean distance\n",
        "\n",
        "(x1, y1) is the coordinate of the first point\n",
        "\n",
        "(x2, y2) is the coordinate of the second point."
      ]
    },
    {
      "cell_type": "code",
      "execution_count": 6,
      "metadata": {
        "colab": {
          "base_uri": "https://localhost:8080/"
        },
        "id": "CuvKj-V8BYyO",
        "outputId": "56a52b8b-ce48-4140-8a7e-40bd975a70af"
      },
      "outputs": [
        {
          "name": "stdout",
          "output_type": "stream",
          "text": [
            "The Euclidean Distance between the above given two points 'PQ' = 3.1622776601683795\n"
          ]
        }
      ],
      "source": [
        "x_1, y_1 = 6, 7\n",
        "x_2, y_2 = 5, 4\n",
        "\n",
        "PQ=(((x_2-x_1)**2)+((y_2-y_1)**2))**0.5\n",
        "\n",
        "print(\"The Euclidean Distance between the above given two points 'PQ' =\",PQ)\n"
      ]
    },
    {
      "cell_type": "markdown",
      "metadata": {
        "id": "xs7m33_oDTSh"
      },
      "source": [
        "#Write a Python program to filter a list of integers using Lambda.\n",
        "\n",
        "Example 1:\n",
        "Input:\n",
        "Original list of integers: [1, 2, 3, 4, 5, 6, 7, 8, 9, 10]\n",
        "\n",
        "Output:\n",
        "Even numbers from the said list:\n",
        "\n",
        "[2, 4, 6, 8, 10]\n",
        "\n",
        "Odd numbers from the said list:\n",
        "\n",
        "[1, 3, 5, 7, 9]"
      ]
    },
    {
      "cell_type": "code",
      "execution_count": 16,
      "metadata": {
        "colab": {
          "base_uri": "https://localhost:8080/"
        },
        "id": "CZlmQcqAB1_V",
        "outputId": "4c8ba1f6-10c1-4b25-852d-dc360428ea9f"
      },
      "outputs": [
        {
          "name": "stdout",
          "output_type": "stream",
          "text": [
            "Even numbers from the said list:\n",
            " [2, 4, 6, 8, 10]\n",
            "Odd numbers from the said list:\n",
            " [1, 3, 5, 7, 9]\n"
          ]
        }
      ],
      "source": [
        "lst= [1,2, 3, 4, 5, 6, 7, 8, 9, 10]\n",
        "a=(lambda x: lst[x]%2==0)\n",
        "b=(lambda x: lst[x]%2!=0)\n",
        "evn=[]\n",
        "odd=[]\n",
        "for i in range(len(lst)):\n",
        "  if a(i)==True:\n",
        "    evn.append(lst[i])\n",
        "  else:\n",
        "    odd.append(lst[i])\n",
        "print('Even numbers from the said list:\\n',evn)\n",
        "print('Odd numbers from the said list:\\n',odd)"
      ]
    },
    {
      "cell_type": "markdown",
      "metadata": {
        "id": "B4Umw4HfmNiD"
      },
      "source": [
        "# While loop\n",
        "Take input again and again from the user until he does not give an input number greater than 100."
      ]
    },
    {
      "cell_type": "code",
      "execution_count": 4,
      "metadata": {
        "colab": {
          "base_uri": "https://localhost:8080/"
        },
        "id": "aB2LtDCiDXv3",
        "outputId": "208e157e-7e17-4d88-d828-f1ee561e20ff"
      },
      "outputs": [
        {
          "name": "stdout",
          "output_type": "stream",
          "text": [
            "Please enter a number again.\n",
            "Please enter a number again.\n",
            "Please enter a number again.\n",
            "Please enter a number again.\n",
            "You have entered a number greater than 100!!! \n",
            " ============================================================\n"
          ]
        }
      ],
      "source": [
        "while(True):                                                                    # it iterates for infinite times untilk we do not give a condition\n",
        "  inp=int(input(\"Enter a number: \"))\n",
        "  if inp>100:\n",
        "    print(\"You have entered a number greater than 100!!!\",\"\\n\",'='*60)\n",
        "    break\n",
        "  else:\n",
        "    print(\"Please enter a number again.\")\n"
      ]
    },
    {
      "cell_type": "markdown",
      "metadata": {},
      "source": [
        "# Write a Python program to change the position of every nth value with the (n+1)th in a list.\n",
        "\n",
        "Example 1:\n",
        "Input:\n",
        "[1, 0, 3, 2, 5, 4]\n",
        "\n",
        "Output:\n",
        "[0, 1, 2, 3, 4, 5]"
      ]
    },
    {
      "cell_type": "code",
      "execution_count": 39,
      "metadata": {
        "id": "FswJFR7iFV2M"
      },
      "outputs": [],
      "source": [
        "lst=[1, 0, 3, 2, 5, 4]\n",
        "a=(lambda x: lst[x])"
      ]
    },
    {
      "cell_type": "code",
      "execution_count": 40,
      "metadata": {},
      "outputs": [
        {
          "data": {
            "text/plain": [
              "3"
            ]
          },
          "execution_count": 40,
          "metadata": {},
          "output_type": "execute_result"
        }
      ],
      "source": [
        "a(2)"
      ]
    },
    {
      "cell_type": "markdown",
      "metadata": {},
      "source": [
        "# Find next prime number\n",
        "Write a Python Program to Find Next Prime Number.\n",
        "\n",
        "Example 1:\n",
        "Input:\n",
        "Given Number = 48\n",
        "\n",
        "Output:\n",
        "The next prime number of 48 is: 53"
      ]
    },
    {
      "cell_type": "code",
      "execution_count": 19,
      "metadata": {},
      "outputs": [],
      "source": [
        "# Create a function to find the prime number\n",
        "def prm_chkr(n):\n",
        "    for num in range(2,round(n/2)+1):\n",
        "        if (n%num==0):\n",
        "            return False\n",
        "            break\n",
        "    else:\n",
        "        return True"
      ]
    },
    {
      "cell_type": "code",
      "execution_count": 28,
      "metadata": {},
      "outputs": [
        {
          "name": "stdout",
          "output_type": "stream",
          "text": [
            "11\n"
          ]
        }
      ],
      "source": [
        "# Find the next prime number of given number\n",
        "n=7\n",
        "flag=False\n",
        "while flag==False:\n",
        "    n+=1\n",
        "    if prm_chkr(n)==True:\n",
        "        print(n)\n",
        "        flag=True\n"
      ]
    },
    {
      "cell_type": "markdown",
      "metadata": {},
      "source": [
        "# Armstrong numberEasy\n",
        "Write a program in Python to check whether an integer is Armstrong number or not.\n",
        "\n",
        "What is Armstrong Number?\n",
        "\n",
        "It is a number which is equal to the sum of cube of its digits. For eg: 153, 370 etc.\n",
        "\n",
        "Lets see it practically by calculating it,\n",
        "\n",
        "Suppose I am taking 153 for an example\n",
        "\n",
        "First calculate the cube of its each digits\n",
        "\n",
        "1^3 = (1 * 1 * 1) = 1\n",
        "\n",
        "5^3 = (5 * 5 * 5) = 125\n",
        "\n",
        "3^3= (3 * 3 * 3) = 27\n",
        "\n",
        "Now add the cube\n",
        "\n",
        "1+125+27 = 153\n",
        "\n",
        "It means 153 is an Armstrong Number.\n",
        "\n",
        "Example 1:\n",
        "Input:\n",
        "153\n",
        "\n",
        "Output:\n",
        "Number is Armstrong"
      ]
    },
    {
      "cell_type": "code",
      "execution_count": 31,
      "metadata": {},
      "outputs": [
        {
          "name": "stdout",
          "output_type": "stream",
          "text": [
            "Number is a Armstrong\n"
          ]
        }
      ],
      "source": [
        "num=153\n",
        "const=0\n",
        "for digit in str(num):\n",
        "    const += (int(digit))**len(str(num))\n",
        "if const==num:\n",
        "    print(\"Number is a Armstrong\")"
      ]
    },
    {
      "cell_type": "markdown",
      "metadata": {},
      "source": [
        "# Largest negative and smallest positiveEasy\n",
        "Write a Python program to find the largest negative and smallest positive numbers (or 0 if none).\n",
        "\n",
        "Example 1:\n",
        "Input:\n",
        "[-12, -6, 300, -40, 2, 2, 3, 57, -50, -22, 12, 40, 9, 11, 18]\n",
        "\n",
        "Output:\n",
        "Largest negative and smallest positive numbers (or 0 if none) of the said list:\n",
        "\n",
        "[-6, 2]"
      ]
    },
    {
      "cell_type": "code",
      "execution_count": 35,
      "metadata": {},
      "outputs": [],
      "source": [
        "nums=[-12, -6, 300, -40, 2, 2, 3, 57, -50, -22, 12, 40, 9, 11, 18]\n",
        "ngt_nums=sorted(i for i in nums if i<0)\n",
        "pst_nums=sorted(i for i in nums if i>0)\n",
        "print([min()])"
      ]
    },
    {
      "cell_type": "code",
      "execution_count": 36,
      "metadata": {},
      "outputs": [
        {
          "data": {
            "text/plain": [
              "[-50, -40, -22, -12, -6]"
            ]
          },
          "execution_count": 36,
          "metadata": {},
          "output_type": "execute_result"
        }
      ],
      "source": [
        "ngt_nums"
      ]
    },
    {
      "cell_type": "markdown",
      "metadata": {},
      "source": [
        "# Input Format Hackerrank List comprehension\n",
        "\n",
        "Four integers x,y,z and n, each on a separate line.\n",
        "\n",
        "Constraints\n",
        "\n",
        "Print the list in lexicographic increasing order.\n",
        "\n",
        "Sample Input 0\n",
        "* x=1\n",
        "* y=1\n",
        "* z=1\n",
        "* n=2\n",
        "\n",
        "Sample Output 0\n",
        "\n",
        "[[0, 0, 0], [0, 0, 1], [0, 1, 0], [1, 0, 0], [1, 1, 1]]"
      ]
    },
    {
      "cell_type": "code",
      "execution_count": 2,
      "metadata": {},
      "outputs": [
        {
          "name": "stdout",
          "output_type": "stream",
          "text": [
            "[[0, 0, 0], [0, 0, 1], [0, 1, 0], [0, 1, 1], [1, 0, 0], [1, 0, 1], [1, 1, 0]]\n"
          ]
        }
      ],
      "source": [
        "x=int(input())\n",
        "y=int(input())\n",
        "z=int(input())\n",
        "n=int(input())\n",
        "\n",
        "result = [ [i,j,k] for i in range(x+1) for j in range(y+1) for k in range(z+1) if i+j+k!=n]\n",
        "print(result)"
      ]
    },
    {
      "cell_type": "markdown",
      "metadata": {},
      "source": [
        "# Sum of even and odd numbers (Easy)\n",
        "Write a program to input an integer N and print the sum of all its even digits and sum of all its odd digits separately.\n",
        "\n",
        "Note : For printing multiple values in one line, put them inside print separated by space.\n",
        "\n",
        "You can follow this syntax for printing values of two variables val1 and val2 separaetd by space -\n",
        "\n",
        "print(val1, \"\", val2)\n",
        "\n",
        "Example 1:\n",
        "Input:\n",
        "123456789\n",
        "\n",
        "Output:\n",
        "20 25"
      ]
    },
    {
      "cell_type": "code",
      "execution_count": 4,
      "metadata": {},
      "outputs": [
        {
          "name": "stdout",
          "output_type": "stream",
          "text": [
            "20  25\n"
          ]
        }
      ],
      "source": [
        "num=123456789\n",
        "f_evn=(lambda x: x%2==0)\n",
        "sum_evn=0\n",
        "sum_odd=0\n",
        "\n",
        "for num1 in str(num):\n",
        "    if f_evn(int(num1))==True:\n",
        "        sum_evn+=int(num1)\n",
        "    else:\n",
        "        sum_odd+=int(num1)\n",
        "\n",
        "print(sum_evn,\"\",sum_odd)"
      ]
    },
    {
      "cell_type": "markdown",
      "metadata": {},
      "source": [
        "# Left triangle alphabet pattern- 1Easy\n",
        "Write a program in python to print the following pattern for the given N number of rows.\n",
        "\n",
        "The left alphabet triangle pattern is a triangle pattern that is made of alphabets and has perpendicular on its left side.\n",
        "\n",
        "Example 1:\n",
        "Input:\n",
        "3\n",
        "\n",
        "Output:\n",
        "\n",
        "A \n",
        "\n",
        "BB\n",
        " \n",
        "CCC"
      ]
    },
    {
      "cell_type": "code",
      "execution_count": 10,
      "metadata": {},
      "outputs": [
        {
          "ename": "AttributeError",
          "evalue": "'dict' object has no attribute 'key'",
          "output_type": "error",
          "traceback": [
            "\u001b[1;31m---------------------------------------------------------------------------\u001b[0m",
            "\u001b[1;31mAttributeError\u001b[0m                            Traceback (most recent call last)",
            "\u001b[1;32me:\\Cloned repo\\100_Days_Code_Challenge\\Python_Basics_class.ipynb Cell 142\u001b[0m in \u001b[0;36m<cell line: 3>\u001b[1;34m()\u001b[0m\n\u001b[0;32m      <a href='vscode-notebook-cell:/e%3A/Cloned%20repo/100_Days_Code_Challenge/Python_Basics_class.ipynb#Y260sZmlsZQ%3D%3D?line=1'>2</a>\u001b[0m n\u001b[39m=\u001b[39m\u001b[39m3\u001b[39m\n\u001b[0;32m      <a href='vscode-notebook-cell:/e%3A/Cloned%20repo/100_Days_Code_Challenge/Python_Basics_class.ipynb#Y260sZmlsZQ%3D%3D?line=2'>3</a>\u001b[0m \u001b[39mfor\u001b[39;00m i \u001b[39min\u001b[39;00m \u001b[39mrange\u001b[39m(\u001b[39m1\u001b[39m,n\u001b[39m+\u001b[39m\u001b[39m1\u001b[39m):\n\u001b[1;32m----> <a href='vscode-notebook-cell:/e%3A/Cloned%20repo/100_Days_Code_Challenge/Python_Basics_class.ipynb#Y260sZmlsZQ%3D%3D?line=3'>4</a>\u001b[0m     \u001b[39mif\u001b[39;00m i\u001b[39m==\u001b[39mdict_alp\u001b[39m.\u001b[39;49mkey(i):\n\u001b[0;32m      <a href='vscode-notebook-cell:/e%3A/Cloned%20repo/100_Days_Code_Challenge/Python_Basics_class.ipynb#Y260sZmlsZQ%3D%3D?line=4'>5</a>\u001b[0m         \u001b[39mprint\u001b[39m(dict_alp(i)\u001b[39m*\u001b[39mi)\n",
            "\u001b[1;31mAttributeError\u001b[0m: 'dict' object has no attribute 'key'"
          ]
        }
      ],
      "source": [
        "dict_alp={1:\"A\",2:\"B\",3:\"C\",4:\"D\"}\n",
        "n=3\n",
        "for i in range(1,n+1):\n",
        "    if i==dict_alp.key(i):\n",
        "        print(dict_alp(i)*i)\n"
      ]
    },
    {
      "cell_type": "code",
      "execution_count": 28,
      "metadata": {},
      "outputs": [
        {
          "name": "stdout",
          "output_type": "stream",
          "text": [
            "A B C D E F G H I J \n",
            "B C D E F G H I J \n",
            "C D E F G H I J \n",
            "D E F G H I J \n",
            "E F G H I J \n",
            "F G H I J \n",
            "G H I J \n",
            "H I J \n",
            "I J \n",
            "J \n"
          ]
        }
      ],
      "source": [
        "n = 10\n",
        "for i in range(1, n + 1):\n",
        "    for j in range(i,n+1):\n",
        "        print(chr(ord('A') - 1 + j),end=' ')\n",
        "    print()\n",
        "    "
      ]
    },
    {
      "cell_type": "code",
      "execution_count": 37,
      "metadata": {},
      "outputs": [
        {
          "name": "stdout",
          "output_type": "stream",
          "text": [
            "AAAAAAAAAA\n",
            "BBBBBBBBB\n",
            "CCCCCCCC\n",
            "DDDDDDD\n",
            "EEEEEE\n",
            "FFFFF\n",
            "GGGG\n",
            "HHH\n",
            "II\n",
            "J\n"
          ]
        }
      ],
      "source": [
        "# Take a number from user\n",
        "n=10\n",
        "temp=n\n",
        "for i in range(1,n+1):\n",
        "    print(chr(ord(\"A\")-1+i)*temp)\n",
        "    temp-=1"
      ]
    },
    {
      "cell_type": "code",
      "execution_count": 38,
      "metadata": {},
      "outputs": [
        {
          "name": "stdout",
          "output_type": "stream",
          "text": [
            "A\n",
            "BB\n",
            "CCC\n",
            "DDDD\n",
            "EEEEE\n"
          ]
        }
      ],
      "source": [
        "# Take a number from user\n",
        "n=5\n",
        "# Iterate through 1 to the given number n because we want n rows\n",
        "for i in range(1,n+1):\n",
        "    # We know that machine takes numbers instead of characters like for \"A ASCII code is 65\" \n",
        "    # Here ord() function returns the ASCII of given character so ord(\"A\") gives 65\n",
        "    # Then we subtracted 65 by 1 and added the i'th number\n",
        "    # i will contain values as 1,2,3,4,5 then we can have the ASCII numbers as 65,66,67,68,69\n",
        "    # Then chr(ex.65) will give the corrosponding alphabet like 66=B,67=C,etc. \n",
        "    # After that we multiplied it by i that means by A*1, B*2, C*3, D*4 etc.\n",
        "    print(chr(ord(\"A\")-1+i)*i)\n",
        "    "
      ]
    },
    {
      "cell_type": "markdown",
      "metadata": {},
      "source": [
        "# Left triangle alphabet pattern-2Easy\n",
        "Write a program in python to print the following pattern for the given N number of rows.\n",
        "\n",
        "The left alphabet triangle pattern is a triangle pattern that is made of alphabets and has perpendicular on its left side.\n",
        "\n",
        "Example 1:\n",
        "Input:\n",
        "4\n",
        "\n",
        "Output:\n",
        "\n",
        "A\n",
        "\n",
        "BC\n",
        "\n",
        "CDE\n",
        "\n",
        "DEFG"
      ]
    },
    {
      "cell_type": "code",
      "execution_count": 17,
      "metadata": {},
      "outputs": [
        {
          "name": "stdout",
          "output_type": "stream",
          "text": [
            "A \n",
            "A B \n",
            "A B C \n",
            "A B C D \n",
            "A B C D E \n"
          ]
        }
      ],
      "source": [
        "n= 5\n",
        "\n",
        "for i in range(1,n+1):\n",
        "    for j in range(1,i+1):\n",
        "        print(chr(ord(\"A\")+j-1),end=' ')\n",
        "    print()"
      ]
    },
    {
      "cell_type": "code",
      "execution_count": 11,
      "metadata": {},
      "outputs": [
        {
          "name": "stdout",
          "output_type": "stream",
          "text": [
            "A\n",
            "BC\n",
            "CDE\n",
            "DEFG\n",
            "EFGHI\n"
          ]
        }
      ],
      "source": [
        "n=5\n",
        "# Outer loop\n",
        "for i in range(1,n+1):\n",
        "    k=i\n",
        "    # Inner loop\n",
        "    for j in range(1,i+1):\n",
        "        print(chr(ord(\"A\")+k-1),end=\"\")\n",
        "        k=k+1\n",
        "    print()"
      ]
    },
    {
      "cell_type": "markdown",
      "metadata": {},
      "source": [
        "# Write a program in python to print the following pattern for the given number of rows.\n",
        "\n",
        "The left alphabet triangle pattern is a triangle pattern that is made of alphabets and has perpendicular on its left side.\n",
        "\n",
        "Example 1:\n",
        "Input:\n",
        "5\n",
        "\n",
        "Output:\n",
        "\n",
        "E\n",
        "\n",
        "DE\n",
        "\n",
        "CDE\n",
        "\n",
        "BCDE\n",
        "\n",
        "ABCDE"
      ]
    },
    {
      "cell_type": "code",
      "execution_count": 22,
      "metadata": {},
      "outputs": [
        {
          "name": "stdout",
          "output_type": "stream",
          "text": [
            "E\n",
            "DE\n",
            "CDE\n",
            "BCDE\n",
            "ABCDE\n"
          ]
        }
      ],
      "source": [
        "n=5\n",
        "k=1\n",
        "for num in range(n,0,-1):\n",
        "    for j in range(num,n+1,1):\n",
        "        print(chr(ord(\"A\")-1+j),end='')\n",
        "    print()"
      ]
    },
    {
      "cell_type": "markdown",
      "metadata": {},
      "source": [
        "# Sort the list elements with minimal time complexity in python.\n"
      ]
    },
    {
      "cell_type": "code",
      "execution_count": 31,
      "metadata": {},
      "outputs": [
        {
          "name": "stdout",
          "output_type": "stream",
          "text": [
            "[8949842, 165165, 66515, 8989, 5654, 684, 654, 632, 555, 123, 89, 74, 15, 7, 6, 5, 4, 3, 2, 1]\n"
          ]
        }
      ],
      "source": [
        "lst=[1,3,2,5,6,4,7,555,15,684,74,89,632,123,5654,8989,66515,654,8949842,165165]\n",
        "lst1=[]\n",
        "while len(lst)>0:\n",
        "    lst1.append(max(lst))\n",
        "    lst.remove(max(lst))\n",
        "\n",
        "print(lst1)\n",
        "\n",
        "\n"
      ]
    },
    {
      "cell_type": "code",
      "execution_count": null,
      "metadata": {},
      "outputs": [],
      "source": []
    }
  ],
  "metadata": {
    "colab": {
      "authorship_tag": "ABX9TyOgPbn1xsMah3aSDUKr4WuV",
      "collapsed_sections": [
        "qe0eT8I0BzXI",
        "bjeYrapKaLoD",
        "j47te8ztJleI",
        "oDVAdMEOlEdz",
        "x6-8tc9YnMwC",
        "4QWvxKH5r87z",
        "ToOM5WnFnODl",
        "5Z5zI_P3z7I0",
        "u270MlzJ5yCp"
      ],
      "include_colab_link": true,
      "name": "Python_Basics_class.ipynb",
      "provenance": []
    },
    "kernelspec": {
      "display_name": "Python 3.10.4 64-bit (windows store)",
      "language": "python",
      "name": "python3"
    },
    "language_info": {
      "codemirror_mode": {
        "name": "ipython",
        "version": 3
      },
      "file_extension": ".py",
      "mimetype": "text/x-python",
      "name": "python",
      "nbconvert_exporter": "python",
      "pygments_lexer": "ipython3",
      "version": "3.10.4"
    },
    "vscode": {
      "interpreter": {
        "hash": "58dbfdb34cf82127b32c5737e6183911655ff227e5c11e8f5e4b25048ae98ef2"
      }
    }
  },
  "nbformat": 4,
  "nbformat_minor": 0
}
